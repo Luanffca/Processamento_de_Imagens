{
 "cells": [
  {
   "cell_type": "code",
   "execution_count": 1,
   "metadata": {},
   "outputs": [],
   "source": [
    "from PIL import Image\n",
    "import numpy as np\n",
    "import matplotlib.pyplot as plt\n",
    "import random\n",
    "import math\n",
    "\n",
    "Carregar a imagem\n",
    "imagem = Image.open('lenna.jpg')\n",
    "\n",
    "Converter para escala de cinza\n",
    "imagem_cinza = imagem.convert('L')\n",
    "plt.imshow(imagem_cinza, cmap='gray')\n",
    "plt.axis('off')  # Ocultar os eixos\n",
    "plt.show()\n",
    "\n",
    "Converter a imagem para um array NumPy\n",
    "valores_pixels = np.array(imagem_cinza)\n",
    "\n",
    "Obter o array de valores 1D e normalizar de 0 a 1\n",
    "valores_pixels_1d = valores_pixels.flatten() / 255\n",
    "\n",
    "Calcular a média e o desvio padrão dos valores dos pixels\n",
    "media = np.mean(valores_pixels_1d)\n",
    "desvio_padrao = np.std(valores_pixels_1d)\n",
    "\n",
    "# Exibir os resultados\n",
    "print(\"Tamanho da Imagem:\", imagem_cinza.size)\n",
    "print(\"Média:\", media)\n",
    "print(\"Desvio Padrão:\", desvio_padrao)"
   ]
  },
  {
   "cell_type": "code",
   "execution_count": 7,
   "metadata": {},
   "outputs": [],
   "source": [
    "jan = (91.0*0.30)+(93.5*0.30)+(87.4*0.20)+(98.2*0.20)\n",
    "fev = (90.0*0.30)+(90.6*0.30)+(84.9*0.20)+(97.4*0.20)\n",
    "mar = (91.7*0.30)+(85.6*0.30)+(94.4*0.20)+(91.8*0.20)\n",
    "abr = (93.2*0.30)+(87.5*0.30)+(92.9*0.20)+(96.6*0.20)\n",
    "mai = (89.3*0.30)+(91.6*0.30)+(92.8*0.20)+(92.2*0.20)\n",
    "jun = (91.4*0.30)+(86.8*0.30)+(93.9*0.20)+(99.1*0.20)\n",
    "jul = (89.7*0.30)+(87.4*0.30)+(95.5*0.20)+(98.2*0.20)\n",
    "ago = (93.2*0.30)+(83.7*0.30)+(95.5*0.20)+(94.7*0.20)"
   ]
  },
  {
   "cell_type": "code",
   "execution_count": 8,
   "metadata": {},
   "outputs": [
    {
     "name": "stdout",
     "output_type": "stream",
     "text": [
      "Jan: 92.47\n",
      "Fev: 90.64\n",
      "Mar: 90.42999999999999\n",
      "Abr: 92.11000000000001\n",
      "Mai: 91.27\n",
      "Jun: 92.06\n",
      "Jul: 91.87\n",
      "Ago: 91.11\n"
     ]
    }
   ],
   "source": [
    "print(\"Jan:\", jan)\n",
    "print(\"Fev:\", fev)\n",
    "print(\"Mar:\", mar)\n",
    "print(\"Abr:\", abr)\n",
    "print(\"Mai:\", mai)\n",
    "print(\"Jun:\", jun)\n",
    "print(\"Jul:\", jul)\n",
    "print(\"Ago:\", ago)"
   ]
  },
  {
   "cell_type": "code",
   "execution_count": null,
   "metadata": {},
   "outputs": [],
   "source": []
  },
  {
   "cell_type": "code",
   "execution_count": null,
   "metadata": {},
   "outputs": [],
   "source": []
  }
 ],
 "metadata": {
  "kernelspec": {
   "display_name": "Python 3",
   "language": "python",
   "name": "python3"
  },
  "language_info": {
   "codemirror_mode": {
    "name": "ipython",
    "version": 3
   },
   "file_extension": ".py",
   "mimetype": "text/x-python",
   "name": "python",
   "nbconvert_exporter": "python",
   "pygments_lexer": "ipython3",
   "version": "3.11.9"
  }
 },
 "nbformat": 4,
 "nbformat_minor": 2
}
