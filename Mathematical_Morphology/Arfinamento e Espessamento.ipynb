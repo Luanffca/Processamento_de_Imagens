{
 "cells": [
  {
   "cell_type": "code",
   "execution_count": 21,
   "id": "07e5feab-2169-47e5-980d-29ce94025041",
   "metadata": {},
   "outputs": [],
   "source": [
    "import numpy as np\n",
    "import cv2\n",
    "import matplotlib.pyplot as plt"
   ]
  },
  {
   "cell_type": "code",
   "execution_count": 22,
   "id": "22ad6ac4-4c1f-4b74-93e5-6b55eb17a582",
   "metadata": {},
   "outputs": [],
   "source": [
    "# Função para aplicar o espessamento manualmente\n",
    "def espessamento_manual(imagem):\n",
    "    # Obter as dimensões da imagem\n",
    "    linhas, colunas = len(imagem), len(imagem[0])\n",
    "    # Criar uma nova imagem para armazenar o resultado\n",
    "    imagem_espessa = [[imagem[i][j] for j in range(colunas)] for i in range(linhas)]\n",
    "\n",
    "    # Percorrer cada pixel da imagem\n",
    "    for i in range(1, linhas - 1):\n",
    "        for j in range(1, colunas - 1):\n",
    "            # Verificar se o pixel é de fundo (0) e se tem vizinhos de primeiro plano (1)\n",
    "            if imagem[i][j] == 0:\n",
    "                if (imagem[i - 1][j] == 1 or imagem[i + 1][j] == 1 or  # cima e baixo\n",
    "                    imagem[i][j - 1] == 1 or imagem[i][j + 1] == 1 or  # esquerda e direita\n",
    "                    imagem[i - 1][j - 1] == 1 or imagem[i - 1][j + 1] == 1 or  # diagonais\n",
    "                    imagem[i + 1][j - 1] == 1 or imagem[i + 1][j + 1] == 1):\n",
    "                    imagem_espessa[i][j] = 1  # Adicionar o pixel ao contorno\n",
    "    \n",
    "    return imagem_espessa"
   ]
  },
  {
   "cell_type": "code",
   "execution_count": 23,
   "id": "ecf3a6c6-cf5a-4674-a6f2-281abae30960",
   "metadata": {},
   "outputs": [],
   "source": [
    "# Função para transformar uma matriz em uma imagem binária e salvar/mostrar\n",
    "def matriz_para_imagem_binaria(matriz):\n",
    "    # Converter a matriz para um array NumPy\n",
    "    imagem_array = np.array(matriz, dtype=np.uint8) * 255  # Multiplicar por 255 para binário (0 e 255)\n",
    "    \n",
    "    # Mostrar a imagem\n",
    "    plt.imshow(imagem_array, cmap='gray')\n",
    "    plt.title(\"Imagem Binária\")\n",
    "    plt.axis('off')\n",
    "    plt.show()\n"
   ]
  },
  {
   "cell_type": "code",
   "execution_count": 24,
   "id": "a7c5d549-9440-4ff6-b2f5-9da467b5bad7",
   "metadata": {},
   "outputs": [],
   "source": [
    "# Exemplo de uma imagem binária simples (5x5)\n",
    "imagem_binaria = [\n",
    "    [0, 0, 0, 0, 0],\n",
    "    [0, 1, 1, 0, 0],\n",
    "    [0, 1, 0, 1, 0],\n",
    "    [0, 0, 1, 1, 0],\n",
    "    [0, 0, 0, 0, 0]\n",
    "]"
   ]
  },
  {
   "cell_type": "code",
   "execution_count": 25,
   "id": "c360d6e3-025a-4444-a3a5-518932a61dc7",
   "metadata": {},
   "outputs": [
    {
     "data": {
      "image/png": "[encoded data removed]",
      "text/plain": [
       "<Figure size 640x480 with 1 Axes>"
      ]
     },
     "metadata": {},
     "output_type": "display_data"
    }
   ],
   "source": [
    "# Chamar a função para exibir a imagem\n",
    "matriz_para_imagem_binaria(imagem_binaria)"
   ]
  },
  {
   "cell_type": "code",
   "execution_count": 26,
   "id": "f71309c2-95ee-4ec9-88d4-2d66f1b932d9",
   "metadata": {},
   "outputs": [],
   "source": [
    "# Aplicar o espessamento\n",
    "imagem_espessada = espessamento_manual(imagem_binaria)"
   ]
  },
  {
   "cell_type": "code",
   "execution_count": 27,
   "id": "aacdaf4e-7272-4562-99de-0186115028c5",
   "metadata": {},
   "outputs": [
    {
     "data": {
      "image/png": "[encoded data removed]",
      "text/plain": [
       "<Figure size 640x480 with 1 Axes>"
      ]
     },
     "metadata": {},
     "output_type": "display_data"
    }
   ],
   "source": [
    "# Chamar a função para exibir a imagem\n",
    "matriz_para_imagem_binaria(imagem_espessada)"
   ]
  },
  {
   "cell_type": "code",
   "execution_count": null,
   "id": "e3644064-fea1-4b85-8124-9dfa9a51c943",
   "metadata": {},
   "outputs": [],
   "source": []
  }
 ],
 "metadata": {
  "kernelspec": {
   "display_name": "Python 3 (ipykernel)",
   "language": "python",
   "name": "python3"
  },
  "language_info": {
   "codemirror_mode": {
    "name": "ipython",
    "version": 3
   },
   "file_extension": ".py",
   "mimetype": "text/x-python",
   "name": "python",
   "nbconvert_exporter": "python",
   "pygments_lexer": "ipython3",
   "version": "3.10.12"
  }
 },
 "nbformat": 4,
 "nbformat_minor": 5
}
